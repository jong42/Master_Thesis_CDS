{
 "cells": [
  {
   "cell_type": "code",
   "execution_count": 2,
   "metadata": {},
   "outputs": [],
   "source": [
    "import pymc3 as pm\n",
    "import numpy as np\n",
    "import pandas as pd\n",
    "import matplotlib.pyplot as plt"
   ]
  },
  {
   "cell_type": "code",
   "execution_count": 24,
   "metadata": {},
   "outputs": [],
   "source": [
    "# Generate data\n",
    "np.random.seed(1)\n",
    "\n",
    "# True parameter values\n",
    "sigma = 1\n",
    "beta = 2\n",
    "# Size of dataset\n",
    "size = 400\n",
    "# Predictor variable\n",
    "X = np.random.randn(size)\n",
    "# Simulate outcome variable\n",
    "Y = beta*X + np.random.randn(size)*sigma\n",
    "\n",
    "\n",
    "data = pd.DataFrame({'X': X, 'Y': Y})"
   ]
  },
  {
   "cell_type": "code",
   "execution_count": 25,
   "metadata": {},
   "outputs": [
    {
     "data": {
      "text/plain": [
       "[-5, 5, -5, 5]"
      ]
     },
     "execution_count": 25,
     "metadata": {},
     "output_type": "execute_result"
    },
    {
     "data": {
      "image/png": "[encoded data removed]",
      "text/plain": [
       "<Figure size 432x288 with 1 Axes>"
      ]
     },
     "metadata": {
      "needs_background": "light"
     },
     "output_type": "display_data"
    }
   ],
   "source": [
    "# Plot data\n",
    "plt.plot(data['X'],data['Y'],'o')\n",
    "plt.axis([-5, 5, -5, 5])"
   ]
  },
  {
   "cell_type": "code",
   "execution_count": 40,
   "metadata": {},
   "outputs": [],
   "source": [
    "# Create probabilistic model\n",
    "basic_model = pm.Model()\n",
    "with basic_model:\n",
    "    beta = pm.Normal('beta', mu=0, sd=10)\n",
    "    sigma = pm.HalfNormal('sigma', sd=1)\n",
    "    #\n",
    "    X = pm.Normal('X', mu=0, sd=1, observed=data['X'])\n",
    "    mu = beta*X\n",
    "    Y = pm.Normal('Y', mu=mu, sd=sigma, observed=data['Y'])\n"
   ]
  },
  {
   "cell_type": "code",
   "execution_count": 44,
   "metadata": {
    "scrolled": true
   },
   "outputs": [
    {
     "name": "stderr",
     "output_type": "stream",
     "text": [
      "Only 100 samples in chain.\n",
      "Auto-assigning NUTS sampler...\n",
      "Initializing NUTS using jitter+adapt_diag...\n",
      "Multiprocess sampling (4 chains in 4 jobs)\n",
      "NUTS: [sigma, beta]\n",
      "Sampling 4 chains: 100%|██████████| 2400/2400 [00:00<00:00, 4182.31draws/s]\n",
      "The acceptance probability does not match the target. It is 0.8841740948996353, but should be close to 0.8. Try to increase the number of tuning steps.\n"
     ]
    }
   ],
   "source": [
    "# Create posterior samples of unobserved RVs\n",
    "nr_of_samples = 100\n",
    "with basic_model:\n",
    "    trace = pm.sample(nr_of_samples,chains=4)\n",
    "#ppc = pm.sample_ppc(trace, samples=int(nr_of_samples*4/100), model=basic_model)"
   ]
  },
  {
   "cell_type": "code",
   "execution_count": null,
   "metadata": {},
   "outputs": [],
   "source": [
    "# Create posterior samples of observed RVs\n"
   ]
  },
  {
   "cell_type": "code",
   "execution_count": 45,
   "metadata": {},
   "outputs": [],
   "source": [
    "# Create posterior samples of observed RVs\n",
    "size_ppc = len(trace['beta'])\n",
    "\n",
    "X_ppc = np.random.normal(0,1,size=size_ppc)\n",
    "mu_ppc = np.multiply(trace['beta'],X_ppc)\n",
    "Y_ppc = np.random.normal(mu_ppc,trace['sigma'],size=size_ppc)"
   ]
  },
  {
   "cell_type": "code",
   "execution_count": 46,
   "metadata": {},
   "outputs": [
    {
     "data": {
      "text/plain": [
       "[-5, 5, -5, 5]"
      ]
     },
     "execution_count": 46,
     "metadata": {},
     "output_type": "execute_result"
    },
    {
     "data": {
      "image/png": "[encoded data removed]",
      "text/plain": [
       "<Figure size 432x288 with 1 Axes>"
      ]
     },
     "metadata": {
      "needs_background": "light"
     },
     "output_type": "display_data"
    }
   ],
   "source": [
    "# Plot posterior samples\n",
    "plt.plot(X_ppc,Y_ppc,'bo')\n",
    "plt.axis([-5, 5, -5, 5])"
   ]
  }
 ],
 "metadata": {
  "kernelspec": {
   "display_name": "Python 3",
   "language": "python",
   "name": "python3"
  },
  "language_info": {
   "codemirror_mode": {
    "name": "ipython",
    "version": 3
   },
   "file_extension": ".py",
   "mimetype": "text/x-python",
   "name": "python",
   "nbconvert_exporter": "python",
   "pygments_lexer": "ipython3",
   "version": "3.7.1"
  }
 },
 "nbformat": 4,
 "nbformat_minor": 2
}
