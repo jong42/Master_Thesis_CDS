{
 "cells": [
  {
   "cell_type": "code",
   "execution_count": 27,
   "metadata": {},
   "outputs": [],
   "source": [
    "import numpy as np\n",
    "import pandas as pd\n",
    "import pymc3 as pm\n",
    "import matplotlib.pyplot as plt\n",
    "from pylab import *\n",
    "from scipy.stats import norm\n",
    "import scipy.integrate as integrate\n",
    "from operator import mul\n",
    "from functools import reduce"
   ]
  },
  {
   "cell_type": "code",
   "execution_count": 28,
   "metadata": {},
   "outputs": [],
   "source": [
    "# Generate data\n",
    "np.random.seed(2)\n",
    "size = 100\n",
    "mu = np.random.normal(0,1,size=size)\n",
    "sigma = 1\n",
    "X_obs = np.random.normal(mu,sigma,size=size)\n",
    "\n"
   ]
  },
  {
   "cell_type": "code",
   "execution_count": 29,
   "metadata": {},
   "outputs": [],
   "source": [
    "# Specify model\n",
    "basic_model = pm.Model()\n",
    "with basic_model:\n",
    "    sigma = 1\n",
    "    mu = pm.Normal('mu',mu=0,sd=sigma)\n",
    "    X = pm.Normal('X',mu=mu,sd=sigma,observed=X_obs)"
   ]
  },
  {
   "cell_type": "code",
   "execution_count": 30,
   "metadata": {},
   "outputs": [
    {
     "name": "stderr",
     "output_type": "stream",
     "text": [
      "Only 100 samples in chain.\n",
      "Auto-assigning NUTS sampler...\n",
      "Initializing NUTS using jitter+adapt_diag...\n",
      "Sequential sampling (1 chains in 1 job)\n",
      "NUTS: [mu]\n",
      "100%|██████████| 600/600 [00:00<00:00, 2664.89it/s]\n",
      "Only one chain was sampled, this makes it impossible to run some convergence checks\n"
     ]
    }
   ],
   "source": [
    "# Draw samples from posterior\n",
    "nr_of_samples = 100\n",
    "with basic_model:\n",
    "    trace = pm.sample(nr_of_samples,chains=1)\n",
    "    samples_mu = trace['mu']\n",
    "    samples_X = np.random.normal(samples_mu,1,size=nr_of_samples)"
   ]
  },
  {
   "cell_type": "code",
   "execution_count": 31,
   "metadata": {},
   "outputs": [
    {
     "data": {
      "image/png": "[encoded data removed]",
      "text/plain": [
       "<Figure size 432x288 with 1 Axes>"
      ]
     },
     "metadata": {
      "needs_background": "light"
     },
     "output_type": "display_data"
    }
   ],
   "source": [
    "plt.plot(samples_mu, samples_X, 'ro')\n",
    "plt.axis([-1, 1, -4, 4])\n",
    "plt.show()\n"
   ]
  },
  {
   "cell_type": "code",
   "execution_count": 59,
   "metadata": {},
   "outputs": [],
   "source": [
    "## Set parameters\n",
    "\n",
    "# model parameters\n",
    "prior_mean_mu = 0\n",
    "prior_sigma_mu = 1\n",
    "prior_sigma_x = 1\n",
    "\n",
    "# plot parameters\n",
    "resolution_joint_mu = 201\n",
    "resolution_joint_x = 201\n",
    "range_joint_mu_upper = 1.5\n",
    "range_joint_mu_lower = -1.5\n",
    "range_joint_x_upper = 3\n",
    "range_joint_x_lower = -3\n"
   ]
  },
  {
   "cell_type": "code",
   "execution_count": 33,
   "metadata": {},
   "outputs": [],
   "source": [
    "## Calculate joint posterior distribution\n",
    "def prior_mu(mu):\n",
    "    density = norm.pdf(mu, loc=prior_mean_mu, scale=prior_sigma_mu)\n",
    "    return density\n",
    "\n",
    "def likelihood_x(x,mu):\n",
    "    density = norm.pdf(x, loc=mu, scale=prior_sigma_x)\n",
    "    return density\n",
    "\n",
    "def likelihood_X(X,mu): \n",
    "    likelihoods = [likelihood_x(point,mu) for point in X]\n",
    "    res = reduce(mul, likelihoods, 1)\n",
    "    return res\n",
    "\n",
    "def likelihood_times_prior_mu(X,mu):\n",
    "    return likelihood_X(X,mu) * prior_mu(mu)\n",
    "\n",
    "def prior_X(X):\n",
    "    res = integrate.quad(lambda mu: likelihood_times_prior_mu(X,mu),a=-np.inf,b=np.inf)[0]\n",
    "    return res\n",
    "\n",
    "def joint_posterior(x,mu,X):\n",
    "    res = likelihood_x(x,mu) * likelihood_X(X,mu) * prior_mu(mu) / prior_X(X)\n",
    "    return res\n",
    "\n",
    "def joint_posterior_without_normalizing_constant(x,mu,X):\n",
    "    res = likelihood_x(x,mu) * likelihood_X(X,mu) * prior_mu(mu)\n",
    "    return res\n",
    "\n",
    "def posterior_marginal_x_without_normalizing_constant(x,X):\n",
    "    res = integrate.quad(lambda mu:joint_posterior_without_normalizing_constant(mu=mu,X=X,x=x),a=-np.inf,b=np.inf)[0]\n",
    "    return res\n",
    "\n",
    "def posterior_marginal_mu(mu,X):\n",
    "    res = likelihood_X(X,mu) * prior_mu(mu) / prior_X(X)\n",
    "    return res\n",
    "\n",
    "def posterior_marginal_mu_without_normalizing_constant(mu,X):\n",
    "    res = likelihood_X(X,mu) * prior_mu(mu) \n",
    "    return res"
   ]
  },
  {
   "cell_type": "code",
   "execution_count": 34,
   "metadata": {},
   "outputs": [],
   "source": [
    "## Improve performance of calculations\n",
    "\n",
    "def prior_mu_vectorized(mu_vector):\n",
    "    res = [prior_mu(mu) for mu in mu_vector]\n",
    "    return res\n",
    "\n",
    "def likelihood_X_vectorized(X,mu_vector):\n",
    "    res = [likelihood_X(X,mu) for mu in mu_vector]\n",
    "    return res\n",
    "\n",
    "def likelihood_x_vectorized(x_vector,mu_vector):\n",
    "    res = [likelihood_x(x,mu) for x in x_vector for mu in mu_vector]\n",
    "    res = np.reshape(np.asarray(res),(resolution_joint_x,resolution_joint_mu))\n",
    "    return res\n",
    "\n",
    "def joint_posterior_without_normalizing_constant_vectorized(x_vector,mu_vector,X):\n",
    "    res = np.multiply(prior_mu_vectorized(mu_vector),likelihood_X_vectorized(X,mu_vector))\n",
    "    res = np.multiply(likelihood_x_vectorized(x_vector,mu_vector),res)\n",
    "    return res"
   ]
  },
  {
   "cell_type": "code",
   "execution_count": 61,
   "metadata": {},
   "outputs": [],
   "source": [
    "## Build grid for plotting joint posterior distribution\n",
    "\n",
    "mu_plot = linspace(range_joint_mu_lower,range_joint_mu_upper,resolution_joint_mu)\n",
    "x_plot = linspace(range_joint_x_lower,range_joint_x_upper,resolution_joint_x)\n",
    "\n",
    "grid = joint_posterior_without_normalizing_constant_vectorized(x_plot,mu_plot,X_obs)"
   ]
  },
  {
   "cell_type": "code",
   "execution_count": 74,
   "metadata": {},
   "outputs": [
    {
     "data": {
      "image/png": "[encoded data removed]",
      "text/plain": [
       "<Figure size 432x288 with 1 Axes>"
      ]
     },
     "metadata": {
      "needs_background": "light"
     },
     "output_type": "display_data"
    }
   ],
   "source": [
    "cnt = contourf(mu_plot, x_plot, grid)\n",
    "plt.xlabel('mu')\n",
    "plt.ylabel('x')\n",
    "plt.ylim((range_joint_x_lower,range_joint_x_upper))\n",
    "plt.xlim((range_joint_mu_lower,range_joint_mu_upper))\n",
    "_ = plt.scatter(samples_mu, samples_X,marker='+',c='r')"
   ]
  }
 ],
 "metadata": {
  "kernelspec": {
   "display_name": "Python 3",
   "language": "python",
   "name": "python3"
  },
  "language_info": {
   "codemirror_mode": {
    "name": "ipython",
    "version": 3
   },
   "file_extension": ".py",
   "mimetype": "text/x-python",
   "name": "python",
   "nbconvert_exporter": "python",
   "pygments_lexer": "ipython3",
   "version": "3.7.1"
  }
 },
 "nbformat": 4,
 "nbformat_minor": 2
}
