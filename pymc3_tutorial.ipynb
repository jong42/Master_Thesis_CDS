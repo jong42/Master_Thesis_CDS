{
 "cells": [
  {
   "cell_type": "code",
   "execution_count": 1,
   "metadata": {},
   "outputs": [
    {
     "data": {
      "text/plain": [
       "<matplotlib.text.Text at 0x80a3e48>"
      ]
     },
     "execution_count": 1,
     "metadata": {},
     "output_type": "execute_result"
    },
    {
     "data": {
      "image/png": "[encoded data removed]",
      "text/plain": [
       "<matplotlib.figure.Figure at 0x7eb0a90>"
      ]
     },
     "metadata": {},
     "output_type": "display_data"
    }
   ],
   "source": [
    "### Generate data\n",
    "\n",
    "import numpy as np\n",
    "import matplotlib.pyplot as plt\n",
    "plt.style.use('seaborn-darkgrid')\n",
    "\n",
    "# Initialize random number generator\n",
    "np.random.seed(123)\n",
    "\n",
    "# True parameter values\n",
    "alpha, sigma = 1, 1\n",
    "beta = [1, 2.5]\n",
    "\n",
    "# Size of dataset\n",
    "size = 100\n",
    "\n",
    "# Predictor variable\n",
    "X1 = np.random.randn(size)\n",
    "X2 = np.random.randn(size) * 0.2\n",
    "\n",
    "# Simulate outcome variable\n",
    "Y = alpha + beta[0]*X1 + beta[1]*X2 + np.random.randn(size)*sigma\n",
    "\n",
    "%matplotlib inline\n",
    "fig, axes = plt.subplots(1, 2, sharex=True, figsize=(10,4))\n",
    "axes[0].scatter(X1, Y)\n",
    "axes[1].scatter(X2, Y)\n",
    "axes[0].set_ylabel('Y'); axes[0].set_xlabel('X1'); axes[1].set_xlabel('X2')"
   ]
  },
  {
   "cell_type": "code",
   "execution_count": 2,
   "metadata": {},
   "outputs": [
    {
     "name": "stdout",
     "output_type": "stream",
     "text": [
      "Running on PyMC3 v3.5\n"
     ]
    },
    {
     "name": "stderr",
     "output_type": "stream",
     "text": [
      "logp = -149.58, ||grad|| = 12.242: 100%|██████████| 19/19 [00:00<00:00, 367.02it/s]  \n"
     ]
    },
    {
     "name": "stdout",
     "output_type": "stream",
     "text": [
      "{'alpha': array(0.90660093), 'beta': array([0.94848596, 2.60711845]), 'sigma_log__': array(-0.03771373), 'sigma': array(0.96298858)}\n"
     ]
    }
   ],
   "source": [
    "### Apply parameter estimation by pymc3\n",
    "\n",
    "import pymc3 as pm\n",
    "print('Running on PyMC3 v{}'.format(pm.__version__))\n",
    "# Specify model\n",
    "basic_model = pm.Model()\n",
    "\n",
    "with basic_model:\n",
    "    alpha = pm.Normal('alpha', mu=0, sd=10)\n",
    "    beta = pm.Normal('beta', mu=0, sd=10, shape=2)\n",
    "    sigma = pm.HalfNormal('sigma', sd=1)\n",
    "    \n",
    "    mu = alpha + beta[0]*X1 + beta[1]*X2\n",
    "    \n",
    "    # likelihood of the observations\n",
    "    Y_obs = pm.Normal('Y_obs', mu=mu, sd=sigma, observed=Y)\n",
    "\n",
    "    \n",
    "# model fitting    \n",
    "map_estimate = pm.find_MAP(model=basic_model)    \n",
    "print (map_estimate)    \n",
    "    \n",
    "    \n"
   ]
  },
  {
   "cell_type": "code",
   "execution_count": 10,
   "metadata": {},
   "outputs": [
    {
     "name": "stdout",
     "output_type": "stream",
     "text": [
      "[0.94857558 2.61356071]\n",
      "0.9067064515219792\n"
     ]
    }
   ],
   "source": [
    "### For comparison: parameter estimation without ppl\n",
    "from sklearn import linear_model\n",
    "\n",
    "scipy_model = linear_model.LinearRegression()\n",
    "scipy_model.fit(np.transpose(np.array([X1,X2])),Y)\n",
    "\n",
    "print(scipy_model.coef_)\n",
    "print(scipy_model.intercept_)"
   ]
  },
  {
   "cell_type": "code",
   "execution_count": null,
   "metadata": {
    "collapsed": true
   },
   "outputs": [],
   "source": [
    "## urn example from Stuhlmüller\n",
    "\n",
    "# We have 3 urns with unknown number of red and black balls. \n",
    "# Proportion of red to black balls in each urn is unknown.\n",
    "# It is possible, but not known, if the proportions in the urns are similar.\n",
    "\n",
    "with pm.Model() as urn_model:\n",
    "    bias = Uniform([0,1])\n",
    "\n",
    "# query: What is the proportion of red to black balls in the third urn?\n",
    "\n",
    "# Evidence: 15 balls were drawn from the first urn, 14 of them were red,\n",
    "# one was black"
   ]
  }
 ],
 "metadata": {
  "kernelspec": {
   "display_name": "Python 3",
   "language": "python",
   "name": "python3"
  },
  "language_info": {
   "codemirror_mode": {
    "name": "ipython",
    "version": 3
   },
   "file_extension": ".py",
   "mimetype": "text/x-python",
   "name": "python",
   "nbconvert_exporter": "python",
   "pygments_lexer": "ipython3",
   "version": "3.6.5"
  }
 },
 "nbformat": 4,
 "nbformat_minor": 2
}
