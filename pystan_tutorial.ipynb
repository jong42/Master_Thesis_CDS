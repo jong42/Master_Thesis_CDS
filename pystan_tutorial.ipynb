{
 "cells": [
  {
   "cell_type": "code",
   "execution_count": 1,
   "metadata": {},
   "outputs": [],
   "source": [
    "import pystan\n",
    "import numpy as np"
   ]
  },
  {
   "cell_type": "code",
   "execution_count": 20,
   "metadata": {},
   "outputs": [],
   "source": [
    "# Set true parameter values\n",
    "a = [0.8,1]\n",
    "b = [0.2,0.1]\n",
    "sigma = 0.2"
   ]
  },
  {
   "cell_type": "code",
   "execution_count": 22,
   "metadata": {},
   "outputs": [],
   "source": [
    "# Generate data from true parameters\n",
    "\n",
    "x = np.arange(0.01,10.01,0.01)\n",
    "N = len(x)\n",
    "ypred = a[0] * np.exp(-b[0] * x) + a[1] * np.exp(-b[1] * x)\n",
    "y = ypred * np.exp(np.random.normal(loc=0, scale=sigma,size=N))"
   ]
  },
  {
   "cell_type": "code",
   "execution_count": 26,
   "metadata": {},
   "outputs": [
    {
     "name": "stderr",
     "output_type": "stream",
     "text": [
      "INFO:pystan:COMPILING THE C++ CODE FOR MODEL anon_model_9f4a52ac6314d820783fe3ec02dcd4a0 NOW.\n",
      "/usr/lib/python3.7/site-packages/Cython/Compiler/Main.py:367: FutureWarning: Cython directive 'language_level' not set, using 2 for now (Py2). This will change in a later release! File: /tmp/tmp00zvx2_0/stanfit4anon_model_9f4a52ac6314d820783fe3ec02dcd4a0_5966541945880049362.pyx\n",
      "  tree = Parsing.p_module(s, pxd, full_module_name)\n"
     ]
    }
   ],
   "source": [
    "# Specify model\n",
    "\n",
    "# data: the data that has to be given to the Stan program\n",
    "# parameters: all unknown quantities to estimate\n",
    "# transformed_parameters: paramters that depend on other parameters or data\n",
    "# model: Here the likelihood and priors are specified. If no prior is given, uniform priors are assumed by default\n",
    "\n",
    "example_code = \"\"\"\n",
    "data {\n",
    "    int N;\n",
    "    vector[N] x;\n",
    "    vector[N] y;\n",
    "}\n",
    "parameters {\n",
    "    vector[2] log_a;\n",
    "    ordered[2] log_b;\n",
    "    real<lower=0> sigma;\n",
    "}\n",
    "transformed parameters {\n",
    "    vector<lower=0>[2] a;\n",
    "    vector<lower=0>[2] b;\n",
    "    a <- exp(log_a);\n",
    "    b <- exp(log_b);\n",
    "}\n",
    "model {\n",
    "    vector[N] ypred;\n",
    "    ypred <- a[1]*exp(-b[1]*x) + a[2]*exp(-b[2]*x);\n",
    "    y ~ lognormal(log(ypred), sigma);\n",
    "    log_a ~ normal(0,1); \n",
    "    log_b ~ normal(0,1);\n",
    "}\n",
    "\"\"\"\n",
    "\n",
    "example_dat = {'x':x,\n",
    "              'y':y,\n",
    "              'N':N}\n",
    "\n",
    "sm = pystan.StanModel(model_code=example_code)\n",
    "\n"
   ]
  },
  {
   "cell_type": "code",
   "execution_count": 27,
   "metadata": {},
   "outputs": [
    {
     "name": "stderr",
     "output_type": "stream",
     "text": [
      "WARNING:pystan:5 of 2000 iterations ended with a divergence (0.25%).\n",
      "WARNING:pystan:Try running with adapt_delta larger than 0.8 to remove the divergences.\n"
     ]
    },
    {
     "name": "stdout",
     "output_type": "stream",
     "text": [
      "Inference for Stan model: anon_model_9f4a52ac6314d820783fe3ec02dcd4a0.\n",
      "4 chains, each with iter=1000; warmup=500; thin=1; \n",
      "post-warmup draws per chain=500, total post-warmup draws=2000.\n",
      "\n",
      "           mean se_mean     sd   2.5%    25%    50%    75%  97.5%  n_eff   Rhat\n",
      "log_a[1]   0.49    0.02   0.15-6.6e-3    0.5   0.54   0.56   0.58     55   1.06\n",
      "log_a[2]  -1.54    0.05    0.6  -2.72  -1.92  -1.55   -1.2  -0.23    165   1.03\n",
      "log_b[1]  -2.06  4.6e-3   0.05  -2.21  -2.07  -2.04  -2.02   -2.0    110   1.04\n",
      "log_b[2]    0.3    0.13   1.25  -1.92  -0.81   0.57   1.22   2.43     89   1.03\n",
      "sigma       0.2  1.5e-4 4.3e-3   0.19   0.19    0.2    0.2   0.21    818   1.01\n",
      "a[1]       1.65    0.03    0.2   0.99   1.65   1.72   1.75   1.79     50   1.06\n",
      "a[2]       0.26    0.02   0.18   0.07   0.15   0.21    0.3    0.8    109   1.05\n",
      "b[1]       0.13  5.6e-4 5.9e-3   0.11   0.13   0.13   0.13   0.14    114   1.04\n",
      "b[2]       2.58    0.17    3.1   0.15   0.45   1.77   3.39  11.41    344   1.01\n",
      "lp__     1117.6    0.13   1.74 1113.5 1116.6 1117.8 1118.9 1120.1    178   1.01\n",
      "\n",
      "Samples were drawn using NUTS at Sat Oct 27 11:47:16 2018.\n",
      "For each parameter, n_eff is a crude measure of effective sample size,\n",
      "and Rhat is the potential scale reduction factor on split chains (at \n",
      "convergence, Rhat=1).\n"
     ]
    }
   ],
   "source": [
    "# Fit model\n",
    "fit = sm.sampling(data=example_dat, iter=1000, chains=4)\n",
    "print(fit)\n",
    "\n"
   ]
  }
 ],
 "metadata": {
  "kernelspec": {
   "display_name": "Python 3",
   "language": "python",
   "name": "python3"
  },
  "language_info": {
   "codemirror_mode": {
    "name": "ipython",
    "version": 3
   },
   "file_extension": ".py",
   "mimetype": "text/x-python",
   "name": "python",
   "nbconvert_exporter": "python",
   "pygments_lexer": "ipython3",
   "version": "3.7.1"
  }
 },
 "nbformat": 4,
 "nbformat_minor": 2
}
