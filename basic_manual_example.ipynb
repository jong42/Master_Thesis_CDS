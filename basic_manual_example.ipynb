{
 "cells": [
  {
   "cell_type": "code",
   "execution_count": 81,
   "metadata": {},
   "outputs": [],
   "source": [
    "import pymc3 as pm\n",
    "import numpy as np\n",
    "import pandas as pd\n",
    "import matplotlib.pyplot as plt\n",
    "from pylab import *\n",
    "from scipy.stats import norm\n",
    "import scipy.integrate as integrate"
   ]
  },
  {
   "cell_type": "code",
   "execution_count": 243,
   "metadata": {},
   "outputs": [],
   "source": [
    "# Generate data\n",
    "np.random.seed(2)\n",
    "size = 2\n",
    "mu = np.random.normal(0,1,size=size)\n",
    "sigma = 1\n",
    "X = np.random.normal(mu,sigma,size=size)"
   ]
  },
  {
   "cell_type": "code",
   "execution_count": 105,
   "metadata": {},
   "outputs": [],
   "source": [
    "# Observable dimension: x\n",
    "# Unobservable dimension: mu\n",
    "# Observed Data: X\n",
    "\n",
    "# Prior assumptions for x and mu:\n",
    "#  mu ~ N(0,1) \n",
    "#  x ~ N(mu,1)"
   ]
  },
  {
   "cell_type": "code",
   "execution_count": 244,
   "metadata": {},
   "outputs": [],
   "source": [
    "def prior_mu(mu):\n",
    "    density = norm.pdf(mu, loc=0, scale=1)\n",
    "    return density\n",
    "\n",
    "def likelihood_x(x,mu):\n",
    "    density = norm.pdf(x, loc=mu, scale=1)\n",
    "    return density\n",
    "\n",
    "def likelihood_X(X,mu):\n",
    "    res = 1\n",
    "    for point in X:\n",
    "        res *= likelihood_x(point,mu)\n",
    "    return res\n",
    "\n",
    "def likelihood_times_prior_mu(X,mu):\n",
    "    return likelihood_X(X,mu) * prior_mu(mu)\n",
    "\n",
    "def prior_X(X):\n",
    "    res = integrate.quad(lambda mu: likelihood_times_prior_mu(X,mu),a=-np.inf,b=np.inf)[0]\n",
    "    return res\n",
    "\n",
    "def joint_posterior(x,mu,X):\n",
    "    res = likelihood_x(x,mu) * likelihood_X(X,mu) * prior_mu(mu) / prior_X(X)\n",
    "    return res\n",
    "\n",
    "def joint_posterior_without_normalizing_constant(x,mu,X):\n",
    "    res = likelihood_x(x,mu) * likelihood_X(X,mu) * prior_mu(mu)\n",
    "    return res"
   ]
  },
  {
   "cell_type": "code",
   "execution_count": 245,
   "metadata": {},
   "outputs": [],
   "source": [
    "# Build grid for plotting\n",
    "\n",
    "mu_plot = linspace(-2,2,50)\n",
    "x_plot = linspace(-2,2,50)\n",
    "\n",
    "grid = np.zeros((50,50))\n",
    "X_coords = linspace(-2,2,50)\n",
    "Y_coords = linspace(-2,2,50)\n",
    "\n",
    "for index_i,i in enumerate(x_plot):\n",
    "    for index_j,j in enumerate(mu_plot):\n",
    "        grid[index_i,index_j] = joint_posterior_without_normalizing_constant(i,j,X)\n",
    "        \n",
    "#grid = [[joint_posterior_without_normalizing_constant(i,j,X) for index_j,j in enumerate(mu_plot)] for index_i,i in enumerate(x_plot)]"
   ]
  },
  {
   "cell_type": "code",
   "execution_count": 246,
   "metadata": {},
   "outputs": [
    {
     "data": {
      "text/plain": [
       "Text(0, 0.5, 'x')"
      ]
     },
     "execution_count": 246,
     "metadata": {},
     "output_type": "execute_result"
    },
    {
     "data": {
      "image/png": "[encoded data removed]",
      "text/plain": [
       "<Figure size 432x288 with 1 Axes>"
      ]
     },
     "metadata": {
      "needs_background": "light"
     },
     "output_type": "display_data"
    }
   ],
   "source": [
    "cnt = contourf(X_coords, Y_coords, grid)\n",
    "plt.xlabel('mu')\n",
    "plt.ylabel('x')"
   ]
  },
  {
   "cell_type": "code",
   "execution_count": 194,
   "metadata": {},
   "outputs": [
    {
     "data": {
      "text/plain": [
       "0.21012930479155098"
      ]
     },
     "execution_count": 194,
     "metadata": {},
     "output_type": "execute_result"
    }
   ],
   "source": [
    "joint_posterior(2,0,X)"
   ]
  },
  {
   "cell_type": "code",
   "execution_count": 195,
   "metadata": {},
   "outputs": [
    {
     "data": {
      "text/plain": [
       "3.9051229793507346e-86"
      ]
     },
     "execution_count": 195,
     "metadata": {},
     "output_type": "execute_result"
    }
   ],
   "source": [
    "joint_posterior(2,2,X)"
   ]
  },
  {
   "cell_type": "code",
   "execution_count": 196,
   "metadata": {},
   "outputs": [
    {
     "data": {
      "text/plain": [
       "0.3989422804014327"
      ]
     },
     "execution_count": 196,
     "metadata": {},
     "output_type": "execute_result"
    }
   ],
   "source": [
    "prior_mu(0)"
   ]
  },
  {
   "cell_type": "code",
   "execution_count": 197,
   "metadata": {},
   "outputs": [
    {
     "data": {
      "text/plain": [
       "0.05399096651318806"
      ]
     },
     "execution_count": 197,
     "metadata": {},
     "output_type": "execute_result"
    }
   ],
   "source": [
    "likelihood_x(2,0)"
   ]
  },
  {
   "cell_type": "code",
   "execution_count": 199,
   "metadata": {},
   "outputs": [
    {
     "data": {
      "text/plain": [
       "0.05399096651318806"
      ]
     },
     "execution_count": 199,
     "metadata": {},
     "output_type": "execute_result"
    }
   ],
   "source": [
    "prior_mu(2)"
   ]
  },
  {
   "cell_type": "code",
   "execution_count": 200,
   "metadata": {},
   "outputs": [
    {
     "data": {
      "text/plain": [
       "0.3989422804014327"
      ]
     },
     "execution_count": 200,
     "metadata": {},
     "output_type": "execute_result"
    }
   ],
   "source": [
    "likelihood_x(2,2)"
   ]
  },
  {
   "cell_type": "code",
   "execution_count": 242,
   "metadata": {},
   "outputs": [
    {
     "data": {
      "text/plain": [
       "9.248179095334775e-23"
      ]
     },
     "execution_count": 242,
     "metadata": {},
     "output_type": "execute_result"
    }
   ],
   "source": [
    "joint_posterior(-1.5,1,X)"
   ]
  }
 ],
 "metadata": {
  "kernelspec": {
   "display_name": "Python 3",
   "language": "python",
   "name": "python3"
  },
  "language_info": {
   "codemirror_mode": {
    "name": "ipython",
    "version": 3
   },
   "file_extension": ".py",
   "mimetype": "text/x-python",
   "name": "python",
   "nbconvert_exporter": "python",
   "pygments_lexer": "ipython3",
   "version": "3.7.1"
  }
 },
 "nbformat": 4,
 "nbformat_minor": 2
}
