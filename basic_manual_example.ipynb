{
 "cells": [
  {
   "cell_type": "code",
   "execution_count": 2,
   "metadata": {},
   "outputs": [],
   "source": [
    "import numpy as np\n",
    "import pandas as pd\n",
    "import matplotlib.pyplot as plt\n",
    "from pylab import *\n",
    "from scipy.stats import norm\n",
    "import scipy.integrate as integrate"
   ]
  },
  {
   "cell_type": "code",
   "execution_count": null,
   "metadata": {},
   "outputs": [],
   "source": [
    "np.random.seed(2)"
   ]
  },
  {
   "cell_type": "code",
   "execution_count": 88,
   "metadata": {},
   "outputs": [],
   "source": [
    "# Generate data\n",
    "size = 100\n",
    "mu = np.random.normal(0,1,size=size)\n",
    "#mu = np.random.uniform(-1,1,size)\n",
    "sigma = 1\n",
    "X = np.random.normal(mu,sigma)\n",
    "#X = np.random.uniform(-1,1,size)"
   ]
  },
  {
   "cell_type": "code",
   "execution_count": 89,
   "metadata": {},
   "outputs": [],
   "source": [
    "# Calculate joint posterior distribution\n",
    "def prior_mu(mu):\n",
    "    density = norm.pdf(mu, loc=0, scale=1)\n",
    "    return density\n",
    "\n",
    "def likelihood_x(x,mu):\n",
    "    density = norm.pdf(x, loc=mu, scale=1)\n",
    "    return density\n",
    "\n",
    "def likelihood_X(X,mu):\n",
    "    res = 1\n",
    "    for point in X:\n",
    "        res *= likelihood_x(point,mu)\n",
    "    return res\n",
    "\n",
    "#def likelihood_times_prior_mu(X,mu):\n",
    "#    return likelihood_X(X,mu) * prior_mu(mu)\n",
    "\n",
    "#def prior_X(X):\n",
    "#    res = integrate.quad(lambda mu: likelihood_times_prior_mu(X,mu),a=-np.inf,b=np.inf)[0]\n",
    "#    return res\n",
    "\n",
    "#def joint_posterior(x,mu,X):\n",
    "#    res = likelihood_x(x,mu) * likelihood_X(X,mu) * prior_mu(mu) / prior_X(X)\n",
    "#    return res\n",
    "\n",
    "def joint_posterior_without_normalizing_constant(x,mu,X):\n",
    "    res = likelihood_x(x,mu) * likelihood_X(X,mu) * prior_mu(mu)\n",
    "    return res\n",
    "\n",
    "def posterior_marginal_x_without_normalizing_constant(x,X):\n",
    "    res = integrate.quad(lambda mu:joint_posterior_without_normalizing_constant(mu=mu,X=X,x=x),a=-np.inf,b=np.inf)[0]\n",
    "    return res"
   ]
  },
  {
   "cell_type": "code",
   "execution_count": 61,
   "metadata": {},
   "outputs": [],
   "source": [
    "# Build grid for plotting\n",
    "\n",
    "mu_plot = linspace(-2,2,50)\n",
    "x_plot = linspace(-2,2,50)\n",
    "\n",
    "grid = np.zeros((50,50))\n",
    "X_coords = linspace(-1,1,50)\n",
    "Y_coords = linspace(-4,4,50)\n",
    "\n",
    "for index_i,i in enumerate(x_plot):\n",
    "    for index_j,j in enumerate(mu_plot):\n",
    "        grid[index_i,index_j] = joint_posterior_without_normalizing_constant(i,j,X)\n",
    "        \n",
    "#grid = [[joint_posterior_without_normalizing_constant(i,j,X) for index_j,j in enumerate(mu_plot)] for index_i,i in enumerate(x_plot)]"
   ]
  },
  {
   "cell_type": "code",
   "execution_count": 70,
   "metadata": {},
   "outputs": [
    {
     "data": {
      "image/png": "[encoded data removed]",
      "text/plain": [
       "<Figure size 432x288 with 1 Axes>"
      ]
     },
     "metadata": {
      "needs_background": "light"
     },
     "output_type": "display_data"
    }
   ],
   "source": [
    "cnt = contourf(X_coords, Y_coords, grid)\n",
    "plt.xlabel('mu')\n",
    "plt.ylabel('x')\n",
    "plt.ylim((-4,4))\n",
    "plt.xlim((-4,4))\n",
    "_ = plt.scatter(mu, X)"
   ]
  },
  {
   "cell_type": "code",
   "execution_count": 83,
   "metadata": {},
   "outputs": [
    {
     "data": {
      "text/plain": [
       "(array([  0.,   3.,   4.,  15.,  20.,  46.,  55.,  93., 133., 130., 134.,\n",
       "        127.,  94.,  64.,  46.,  18.,   7.,   4.,   5.,   1.]),\n",
       " array([-5. , -4.5, -4. , -3.5, -3. , -2.5, -2. , -1.5, -1. , -0.5,  0. ,\n",
       "         0.5,  1. ,  1.5,  2. ,  2.5,  3. ,  3.5,  4. ,  4.5,  5. ]),\n",
       " <a list of 20 Patch objects>)"
      ]
     },
     "execution_count": 83,
     "metadata": {},
     "output_type": "execute_result"
    },
    {
     "data": {
      "image/png": "[encoded data removed]",
      "text/plain": [
       "<Figure size 432x288 with 1 Axes>"
      ]
     },
     "metadata": {
      "needs_background": "light"
     },
     "output_type": "display_data"
    }
   ],
   "source": [
    "hist(X,range=[-5,5],bins=20)"
   ]
  },
  {
   "cell_type": "code",
   "execution_count": 105,
   "metadata": {},
   "outputs": [
    {
     "data": {
      "image/png": "[encoded data removed]",
      "text/plain": [
       "<Figure size 432x288 with 1 Axes>"
      ]
     },
     "metadata": {
      "needs_background": "light"
     },
     "output_type": "display_data"
    }
   ],
   "source": [
    "# Plot posterior marginal distribution of x\n",
    "\n",
    "marginals=[]\n",
    "\n",
    "for x in  np.linspace(-4,4,100):\n",
    "    marginals.append(posterior_marginal_x_without_normalizing_constant(x,X))\n",
    "\n",
    "plt.plot(marginals)\n",
    "\n",
    "plt.show()"
   ]
  },
  {
   "cell_type": "code",
   "execution_count": 116,
   "metadata": {},
   "outputs": [],
   "source": [
    "plot??"
   ]
  }
 ],
 "metadata": {
  "kernelspec": {
   "display_name": "Python 3",
   "language": "python",
   "name": "python3"
  },
  "language_info": {
   "codemirror_mode": {
    "name": "ipython",
    "version": 3
   },
   "file_extension": ".py",
   "mimetype": "text/x-python",
   "name": "python",
   "nbconvert_exporter": "python",
   "pygments_lexer": "ipython3",
   "version": "3.7.1"
  }
 },
 "nbformat": 4,
 "nbformat_minor": 2
}
